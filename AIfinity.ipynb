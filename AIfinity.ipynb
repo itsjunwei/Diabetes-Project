{
 "cells": [
  {
   "cell_type": "code",
   "execution_count": 25,
   "metadata": {},
   "outputs": [],
   "source": [
    "import numpy as np\n",
    "import pandas as pd\n",
    "import seaborn as sb\n",
    "import matplotlib.pyplot as plt # we only need pyplot\n",
    "sb.set() # set the default Seaborn style for graphics\n",
    "\n",
    "from sklearn.linear_model import LinearRegression\n",
    "from sklearn.model_selection import train_test_split\n",
    "from sklearn.metrics import mean_squared_error\n",
    "from sklearn.linear_model import LogisticRegression\n",
    "from sklearn import metrics\n",
    "from sklearn.ensemble import RandomForestClassifier\n",
    "from sklearn.metrics import roc_auc_score\n",
    "from sklearn.metrics import roc_curve"
   ]
  },
  {
   "cell_type": "code",
   "execution_count": 26,
   "metadata": {},
   "outputs": [],
   "source": [
    "sales1 = pd.read_csv('SalesO1.csv')"
   ]
  },
  {
   "cell_type": "code",
   "execution_count": 27,
   "metadata": {
    "scrolled": true
   },
   "outputs": [
    {
     "data": {
      "text/html": [
       "<div>\n",
       "<style scoped>\n",
       "    .dataframe tbody tr th:only-of-type {\n",
       "        vertical-align: middle;\n",
       "    }\n",
       "\n",
       "    .dataframe tbody tr th {\n",
       "        vertical-align: top;\n",
       "    }\n",
       "\n",
       "    .dataframe thead th {\n",
       "        text-align: right;\n",
       "    }\n",
       "</style>\n",
       "<table border=\"1\" class=\"dataframe\">\n",
       "  <thead>\n",
       "    <tr style=\"text-align: right;\">\n",
       "      <th></th>\n",
       "      <th>SKU</th>\n",
       "      <th>Product - English Name</th>\n",
       "      <th>Product - Chinese Name</th>\n",
       "      <th>Date of Sale</th>\n",
       "      <th>Amount Sold</th>\n",
       "      <th>Percentage Point Change</th>\n",
       "    </tr>\n",
       "  </thead>\n",
       "  <tbody>\n",
       "    <tr>\n",
       "      <th>0</th>\n",
       "      <td>A013</td>\n",
       "      <td>Mushroom Combo</td>\n",
       "      <td>????</td>\n",
       "      <td>2018/01/01</td>\n",
       "      <td>14</td>\n",
       "      <td>0</td>\n",
       "    </tr>\n",
       "    <tr>\n",
       "      <th>1</th>\n",
       "      <td>A013</td>\n",
       "      <td>Mushroom Combo</td>\n",
       "      <td>????</td>\n",
       "      <td>2018/01/02</td>\n",
       "      <td>7</td>\n",
       "      <td>-50</td>\n",
       "    </tr>\n",
       "    <tr>\n",
       "      <th>2</th>\n",
       "      <td>A013</td>\n",
       "      <td>Mushroom Combo</td>\n",
       "      <td>????</td>\n",
       "      <td>2018/01/03</td>\n",
       "      <td>7</td>\n",
       "      <td>0</td>\n",
       "    </tr>\n",
       "    <tr>\n",
       "      <th>3</th>\n",
       "      <td>A013</td>\n",
       "      <td>Mushroom Combo</td>\n",
       "      <td>????</td>\n",
       "      <td>2018/01/04</td>\n",
       "      <td>6</td>\n",
       "      <td>-14.28571429</td>\n",
       "    </tr>\n",
       "    <tr>\n",
       "      <th>4</th>\n",
       "      <td>A013</td>\n",
       "      <td>Mushroom Combo</td>\n",
       "      <td>????</td>\n",
       "      <td>2018/01/05</td>\n",
       "      <td>15</td>\n",
       "      <td>150</td>\n",
       "    </tr>\n",
       "  </tbody>\n",
       "</table>\n",
       "</div>"
      ],
      "text/plain": [
       "    SKU Product - English Name Product - Chinese Name Date of Sale  \\\n",
       "0  A013         Mushroom Combo                   ????   2018/01/01   \n",
       "1  A013         Mushroom Combo                   ????   2018/01/02   \n",
       "2  A013         Mushroom Combo                   ????   2018/01/03   \n",
       "3  A013         Mushroom Combo                   ????   2018/01/04   \n",
       "4  A013         Mushroom Combo                   ????   2018/01/05   \n",
       "\n",
       "   Amount Sold Percentage Point Change  \n",
       "0           14                       0  \n",
       "1            7                     -50  \n",
       "2            7                       0  \n",
       "3            6            -14.28571429  \n",
       "4           15                     150  "
      ]
     },
     "execution_count": 27,
     "metadata": {},
     "output_type": "execute_result"
    }
   ],
   "source": [
    "sales1.head()"
   ]
  },
  {
   "cell_type": "code",
   "execution_count": 28,
   "metadata": {},
   "outputs": [
    {
     "data": {
      "text/html": [
       "<div>\n",
       "<style scoped>\n",
       "    .dataframe tbody tr th:only-of-type {\n",
       "        vertical-align: middle;\n",
       "    }\n",
       "\n",
       "    .dataframe tbody tr th {\n",
       "        vertical-align: top;\n",
       "    }\n",
       "\n",
       "    .dataframe thead th {\n",
       "        text-align: right;\n",
       "    }\n",
       "</style>\n",
       "<table border=\"1\" class=\"dataframe\">\n",
       "  <thead>\n",
       "    <tr style=\"text-align: right;\">\n",
       "      <th></th>\n",
       "      <th>SKU</th>\n",
       "      <th>Product - English Name</th>\n",
       "      <th>Product - Chinese Name</th>\n",
       "      <th>Date of Sale</th>\n",
       "      <th>Amount Sold</th>\n",
       "      <th>Percentage Point Change</th>\n",
       "    </tr>\n",
       "  </thead>\n",
       "  <tbody>\n",
       "    <tr>\n",
       "      <th>0</th>\n",
       "      <td>A013</td>\n",
       "      <td>Mushroom Combo</td>\n",
       "      <td>????</td>\n",
       "      <td>2018/01/01</td>\n",
       "      <td>14</td>\n",
       "      <td>0</td>\n",
       "    </tr>\n",
       "    <tr>\n",
       "      <th>1</th>\n",
       "      <td>A013</td>\n",
       "      <td>Mushroom Combo</td>\n",
       "      <td>????</td>\n",
       "      <td>2018/01/02</td>\n",
       "      <td>7</td>\n",
       "      <td>-50</td>\n",
       "    </tr>\n",
       "    <tr>\n",
       "      <th>2</th>\n",
       "      <td>A013</td>\n",
       "      <td>Mushroom Combo</td>\n",
       "      <td>????</td>\n",
       "      <td>2018/01/03</td>\n",
       "      <td>7</td>\n",
       "      <td>0</td>\n",
       "    </tr>\n",
       "    <tr>\n",
       "      <th>3</th>\n",
       "      <td>A013</td>\n",
       "      <td>Mushroom Combo</td>\n",
       "      <td>????</td>\n",
       "      <td>2018/01/04</td>\n",
       "      <td>6</td>\n",
       "      <td>-14.28571429</td>\n",
       "    </tr>\n",
       "    <tr>\n",
       "      <th>4</th>\n",
       "      <td>A013</td>\n",
       "      <td>Mushroom Combo</td>\n",
       "      <td>????</td>\n",
       "      <td>2018/01/05</td>\n",
       "      <td>15</td>\n",
       "      <td>150</td>\n",
       "    </tr>\n",
       "    <tr>\n",
       "      <th>...</th>\n",
       "      <td>...</td>\n",
       "      <td>...</td>\n",
       "      <td>...</td>\n",
       "      <td>...</td>\n",
       "      <td>...</td>\n",
       "      <td>...</td>\n",
       "    </tr>\n",
       "    <tr>\n",
       "      <th>14287</th>\n",
       "      <td>A006-2</td>\n",
       "      <td>Bamboo Shoot (Half)</td>\n",
       "      <td>??????</td>\n",
       "      <td>2020/12/27</td>\n",
       "      <td>2</td>\n",
       "      <td>100</td>\n",
       "    </tr>\n",
       "    <tr>\n",
       "      <th>14288</th>\n",
       "      <td>A006-2</td>\n",
       "      <td>Bamboo Shoot (Half)</td>\n",
       "      <td>??????</td>\n",
       "      <td>2020/12/28</td>\n",
       "      <td>1</td>\n",
       "      <td>-50</td>\n",
       "    </tr>\n",
       "    <tr>\n",
       "      <th>14289</th>\n",
       "      <td>A006-2</td>\n",
       "      <td>Bamboo Shoot (Half)</td>\n",
       "      <td>??????</td>\n",
       "      <td>2020/12/29</td>\n",
       "      <td>1</td>\n",
       "      <td>0</td>\n",
       "    </tr>\n",
       "    <tr>\n",
       "      <th>14290</th>\n",
       "      <td>A006-2</td>\n",
       "      <td>Bamboo Shoot (Half)</td>\n",
       "      <td>??????</td>\n",
       "      <td>2020/12/30</td>\n",
       "      <td>1</td>\n",
       "      <td>0</td>\n",
       "    </tr>\n",
       "    <tr>\n",
       "      <th>14291</th>\n",
       "      <td>A006-2</td>\n",
       "      <td>Bamboo Shoot (Half)</td>\n",
       "      <td>??????</td>\n",
       "      <td>2020/12/31</td>\n",
       "      <td>5</td>\n",
       "      <td>400</td>\n",
       "    </tr>\n",
       "  </tbody>\n",
       "</table>\n",
       "<p>14292 rows × 6 columns</p>\n",
       "</div>"
      ],
      "text/plain": [
       "          SKU Product - English Name Product - Chinese Name Date of Sale  \\\n",
       "0        A013         Mushroom Combo                   ????   2018/01/01   \n",
       "1        A013         Mushroom Combo                   ????   2018/01/02   \n",
       "2        A013         Mushroom Combo                   ????   2018/01/03   \n",
       "3        A013         Mushroom Combo                   ????   2018/01/04   \n",
       "4        A013         Mushroom Combo                   ????   2018/01/05   \n",
       "...       ...                    ...                    ...          ...   \n",
       "14287  A006-2    Bamboo Shoot (Half)                 ??????   2020/12/27   \n",
       "14288  A006-2    Bamboo Shoot (Half)                 ??????   2020/12/28   \n",
       "14289  A006-2    Bamboo Shoot (Half)                 ??????   2020/12/29   \n",
       "14290  A006-2    Bamboo Shoot (Half)                 ??????   2020/12/30   \n",
       "14291  A006-2    Bamboo Shoot (Half)                 ??????   2020/12/31   \n",
       "\n",
       "       Amount Sold Percentage Point Change  \n",
       "0               14                       0  \n",
       "1                7                     -50  \n",
       "2                7                       0  \n",
       "3                6            -14.28571429  \n",
       "4               15                     150  \n",
       "...            ...                     ...  \n",
       "14287            2                     100  \n",
       "14288            1                     -50  \n",
       "14289            1                       0  \n",
       "14290            1                       0  \n",
       "14291            5                     400  \n",
       "\n",
       "[14292 rows x 6 columns]"
      ]
     },
     "execution_count": 28,
     "metadata": {},
     "output_type": "execute_result"
    }
   ],
   "source": [
    "sales1"
   ]
  },
  {
   "cell_type": "code",
   "execution_count": 29,
   "metadata": {},
   "outputs": [
    {
     "data": {
      "text/html": [
       "<div>\n",
       "<style scoped>\n",
       "    .dataframe tbody tr th:only-of-type {\n",
       "        vertical-align: middle;\n",
       "    }\n",
       "\n",
       "    .dataframe tbody tr th {\n",
       "        vertical-align: top;\n",
       "    }\n",
       "\n",
       "    .dataframe thead th {\n",
       "        text-align: right;\n",
       "    }\n",
       "</style>\n",
       "<table border=\"1\" class=\"dataframe\">\n",
       "  <thead>\n",
       "    <tr style=\"text-align: right;\">\n",
       "      <th></th>\n",
       "      <th>Amount Sold</th>\n",
       "    </tr>\n",
       "  </thead>\n",
       "  <tbody>\n",
       "    <tr>\n",
       "      <th>count</th>\n",
       "      <td>14292.000000</td>\n",
       "    </tr>\n",
       "    <tr>\n",
       "      <th>mean</th>\n",
       "      <td>6.185418</td>\n",
       "    </tr>\n",
       "    <tr>\n",
       "      <th>std</th>\n",
       "      <td>5.955228</td>\n",
       "    </tr>\n",
       "    <tr>\n",
       "      <th>min</th>\n",
       "      <td>0.000000</td>\n",
       "    </tr>\n",
       "    <tr>\n",
       "      <th>25%</th>\n",
       "      <td>2.000000</td>\n",
       "    </tr>\n",
       "    <tr>\n",
       "      <th>50%</th>\n",
       "      <td>4.000000</td>\n",
       "    </tr>\n",
       "    <tr>\n",
       "      <th>75%</th>\n",
       "      <td>8.000000</td>\n",
       "    </tr>\n",
       "    <tr>\n",
       "      <th>max</th>\n",
       "      <td>70.000000</td>\n",
       "    </tr>\n",
       "  </tbody>\n",
       "</table>\n",
       "</div>"
      ],
      "text/plain": [
       "        Amount Sold\n",
       "count  14292.000000\n",
       "mean       6.185418\n",
       "std        5.955228\n",
       "min        0.000000\n",
       "25%        2.000000\n",
       "50%        4.000000\n",
       "75%        8.000000\n",
       "max       70.000000"
      ]
     },
     "execution_count": 29,
     "metadata": {},
     "output_type": "execute_result"
    }
   ],
   "source": [
    "sales1.describe()"
   ]
  },
  {
   "cell_type": "code",
   "execution_count": 30,
   "metadata": {},
   "outputs": [],
   "source": [
    "uncleaned_data = pd.DataFrame(data= sales1)"
   ]
  },
  {
   "cell_type": "code",
   "execution_count": 31,
   "metadata": {},
   "outputs": [
    {
     "data": {
      "text/html": [
       "<div>\n",
       "<style scoped>\n",
       "    .dataframe tbody tr th:only-of-type {\n",
       "        vertical-align: middle;\n",
       "    }\n",
       "\n",
       "    .dataframe tbody tr th {\n",
       "        vertical-align: top;\n",
       "    }\n",
       "\n",
       "    .dataframe thead th {\n",
       "        text-align: right;\n",
       "    }\n",
       "</style>\n",
       "<table border=\"1\" class=\"dataframe\">\n",
       "  <thead>\n",
       "    <tr style=\"text-align: right;\">\n",
       "      <th></th>\n",
       "      <th>SKU</th>\n",
       "      <th>Product - English Name</th>\n",
       "      <th>Product - Chinese Name</th>\n",
       "      <th>Date of Sale</th>\n",
       "      <th>Amount Sold</th>\n",
       "      <th>Percentage Point Change</th>\n",
       "    </tr>\n",
       "  </thead>\n",
       "  <tbody>\n",
       "    <tr>\n",
       "      <th>0</th>\n",
       "      <td>A013</td>\n",
       "      <td>Mushroom Combo</td>\n",
       "      <td>????</td>\n",
       "      <td>2018/01/01</td>\n",
       "      <td>14</td>\n",
       "      <td>0</td>\n",
       "    </tr>\n",
       "    <tr>\n",
       "      <th>1</th>\n",
       "      <td>A013</td>\n",
       "      <td>Mushroom Combo</td>\n",
       "      <td>????</td>\n",
       "      <td>2018/01/02</td>\n",
       "      <td>7</td>\n",
       "      <td>-50</td>\n",
       "    </tr>\n",
       "    <tr>\n",
       "      <th>2</th>\n",
       "      <td>A013</td>\n",
       "      <td>Mushroom Combo</td>\n",
       "      <td>????</td>\n",
       "      <td>2018/01/03</td>\n",
       "      <td>7</td>\n",
       "      <td>0</td>\n",
       "    </tr>\n",
       "    <tr>\n",
       "      <th>3</th>\n",
       "      <td>A013</td>\n",
       "      <td>Mushroom Combo</td>\n",
       "      <td>????</td>\n",
       "      <td>2018/01/04</td>\n",
       "      <td>6</td>\n",
       "      <td>-14.28571429</td>\n",
       "    </tr>\n",
       "    <tr>\n",
       "      <th>4</th>\n",
       "      <td>A013</td>\n",
       "      <td>Mushroom Combo</td>\n",
       "      <td>????</td>\n",
       "      <td>2018/01/05</td>\n",
       "      <td>15</td>\n",
       "      <td>150</td>\n",
       "    </tr>\n",
       "    <tr>\n",
       "      <th>...</th>\n",
       "      <td>...</td>\n",
       "      <td>...</td>\n",
       "      <td>...</td>\n",
       "      <td>...</td>\n",
       "      <td>...</td>\n",
       "      <td>...</td>\n",
       "    </tr>\n",
       "    <tr>\n",
       "      <th>14287</th>\n",
       "      <td>A006-2</td>\n",
       "      <td>Bamboo Shoot (Half)</td>\n",
       "      <td>??????</td>\n",
       "      <td>2020/12/27</td>\n",
       "      <td>2</td>\n",
       "      <td>100</td>\n",
       "    </tr>\n",
       "    <tr>\n",
       "      <th>14288</th>\n",
       "      <td>A006-2</td>\n",
       "      <td>Bamboo Shoot (Half)</td>\n",
       "      <td>??????</td>\n",
       "      <td>2020/12/28</td>\n",
       "      <td>1</td>\n",
       "      <td>-50</td>\n",
       "    </tr>\n",
       "    <tr>\n",
       "      <th>14289</th>\n",
       "      <td>A006-2</td>\n",
       "      <td>Bamboo Shoot (Half)</td>\n",
       "      <td>??????</td>\n",
       "      <td>2020/12/29</td>\n",
       "      <td>1</td>\n",
       "      <td>0</td>\n",
       "    </tr>\n",
       "    <tr>\n",
       "      <th>14290</th>\n",
       "      <td>A006-2</td>\n",
       "      <td>Bamboo Shoot (Half)</td>\n",
       "      <td>??????</td>\n",
       "      <td>2020/12/30</td>\n",
       "      <td>1</td>\n",
       "      <td>0</td>\n",
       "    </tr>\n",
       "    <tr>\n",
       "      <th>14291</th>\n",
       "      <td>A006-2</td>\n",
       "      <td>Bamboo Shoot (Half)</td>\n",
       "      <td>??????</td>\n",
       "      <td>2020/12/31</td>\n",
       "      <td>5</td>\n",
       "      <td>400</td>\n",
       "    </tr>\n",
       "  </tbody>\n",
       "</table>\n",
       "<p>14292 rows × 6 columns</p>\n",
       "</div>"
      ],
      "text/plain": [
       "          SKU Product - English Name Product - Chinese Name Date of Sale  \\\n",
       "0        A013         Mushroom Combo                   ????   2018/01/01   \n",
       "1        A013         Mushroom Combo                   ????   2018/01/02   \n",
       "2        A013         Mushroom Combo                   ????   2018/01/03   \n",
       "3        A013         Mushroom Combo                   ????   2018/01/04   \n",
       "4        A013         Mushroom Combo                   ????   2018/01/05   \n",
       "...       ...                    ...                    ...          ...   \n",
       "14287  A006-2    Bamboo Shoot (Half)                 ??????   2020/12/27   \n",
       "14288  A006-2    Bamboo Shoot (Half)                 ??????   2020/12/28   \n",
       "14289  A006-2    Bamboo Shoot (Half)                 ??????   2020/12/29   \n",
       "14290  A006-2    Bamboo Shoot (Half)                 ??????   2020/12/30   \n",
       "14291  A006-2    Bamboo Shoot (Half)                 ??????   2020/12/31   \n",
       "\n",
       "       Amount Sold Percentage Point Change  \n",
       "0               14                       0  \n",
       "1                7                     -50  \n",
       "2                7                       0  \n",
       "3                6            -14.28571429  \n",
       "4               15                     150  \n",
       "...            ...                     ...  \n",
       "14287            2                     100  \n",
       "14288            1                     -50  \n",
       "14289            1                       0  \n",
       "14290            1                       0  \n",
       "14291            5                     400  \n",
       "\n",
       "[14292 rows x 6 columns]"
      ]
     },
     "execution_count": 31,
     "metadata": {},
     "output_type": "execute_result"
    }
   ],
   "source": [
    "uncleaned_data.dropna()"
   ]
  },
  {
   "cell_type": "code",
   "execution_count": 33,
   "metadata": {},
   "outputs": [
    {
     "data": {
      "text/html": [
       "<div>\n",
       "<style scoped>\n",
       "    .dataframe tbody tr th:only-of-type {\n",
       "        vertical-align: middle;\n",
       "    }\n",
       "\n",
       "    .dataframe tbody tr th {\n",
       "        vertical-align: top;\n",
       "    }\n",
       "\n",
       "    .dataframe thead th {\n",
       "        text-align: right;\n",
       "    }\n",
       "</style>\n",
       "<table border=\"1\" class=\"dataframe\">\n",
       "  <thead>\n",
       "    <tr style=\"text-align: right;\">\n",
       "      <th></th>\n",
       "      <th>SKU</th>\n",
       "      <th>Date of Sale</th>\n",
       "      <th>Amount Sold</th>\n",
       "      <th>Percentage Point Change</th>\n",
       "    </tr>\n",
       "  </thead>\n",
       "  <tbody>\n",
       "    <tr>\n",
       "      <th>0</th>\n",
       "      <td>A013</td>\n",
       "      <td>2018/01/01</td>\n",
       "      <td>14</td>\n",
       "      <td>0</td>\n",
       "    </tr>\n",
       "    <tr>\n",
       "      <th>1</th>\n",
       "      <td>A013</td>\n",
       "      <td>2018/01/02</td>\n",
       "      <td>7</td>\n",
       "      <td>-50</td>\n",
       "    </tr>\n",
       "    <tr>\n",
       "      <th>2</th>\n",
       "      <td>A013</td>\n",
       "      <td>2018/01/03</td>\n",
       "      <td>7</td>\n",
       "      <td>0</td>\n",
       "    </tr>\n",
       "    <tr>\n",
       "      <th>3</th>\n",
       "      <td>A013</td>\n",
       "      <td>2018/01/04</td>\n",
       "      <td>6</td>\n",
       "      <td>-14.28571429</td>\n",
       "    </tr>\n",
       "    <tr>\n",
       "      <th>4</th>\n",
       "      <td>A013</td>\n",
       "      <td>2018/01/05</td>\n",
       "      <td>15</td>\n",
       "      <td>150</td>\n",
       "    </tr>\n",
       "    <tr>\n",
       "      <th>...</th>\n",
       "      <td>...</td>\n",
       "      <td>...</td>\n",
       "      <td>...</td>\n",
       "      <td>...</td>\n",
       "    </tr>\n",
       "    <tr>\n",
       "      <th>14287</th>\n",
       "      <td>A006-2</td>\n",
       "      <td>2020/12/27</td>\n",
       "      <td>2</td>\n",
       "      <td>100</td>\n",
       "    </tr>\n",
       "    <tr>\n",
       "      <th>14288</th>\n",
       "      <td>A006-2</td>\n",
       "      <td>2020/12/28</td>\n",
       "      <td>1</td>\n",
       "      <td>-50</td>\n",
       "    </tr>\n",
       "    <tr>\n",
       "      <th>14289</th>\n",
       "      <td>A006-2</td>\n",
       "      <td>2020/12/29</td>\n",
       "      <td>1</td>\n",
       "      <td>0</td>\n",
       "    </tr>\n",
       "    <tr>\n",
       "      <th>14290</th>\n",
       "      <td>A006-2</td>\n",
       "      <td>2020/12/30</td>\n",
       "      <td>1</td>\n",
       "      <td>0</td>\n",
       "    </tr>\n",
       "    <tr>\n",
       "      <th>14291</th>\n",
       "      <td>A006-2</td>\n",
       "      <td>2020/12/31</td>\n",
       "      <td>5</td>\n",
       "      <td>400</td>\n",
       "    </tr>\n",
       "  </tbody>\n",
       "</table>\n",
       "<p>14292 rows × 4 columns</p>\n",
       "</div>"
      ],
      "text/plain": [
       "          SKU Date of Sale  Amount Sold Percentage Point Change\n",
       "0        A013   2018/01/01           14                       0\n",
       "1        A013   2018/01/02            7                     -50\n",
       "2        A013   2018/01/03            7                       0\n",
       "3        A013   2018/01/04            6            -14.28571429\n",
       "4        A013   2018/01/05           15                     150\n",
       "...       ...          ...          ...                     ...\n",
       "14287  A006-2   2020/12/27            2                     100\n",
       "14288  A006-2   2020/12/28            1                     -50\n",
       "14289  A006-2   2020/12/29            1                       0\n",
       "14290  A006-2   2020/12/30            1                       0\n",
       "14291  A006-2   2020/12/31            5                     400\n",
       "\n",
       "[14292 rows x 4 columns]"
      ]
     },
     "execution_count": 33,
     "metadata": {},
     "output_type": "execute_result"
    }
   ],
   "source": [
    "uncleaned_data.drop(columns = ['Product - Chinese Name', 'Product - English Name'])"
   ]
  },
  {
   "cell_type": "code",
   "execution_count": 34,
   "metadata": {},
   "outputs": [],
   "source": [
    "grouped = uncleaned_data.groupby(uncleaned_data.SKU)\n"
   ]
  },
  {
   "cell_type": "code",
   "execution_count": 42,
   "metadata": {},
   "outputs": [],
   "source": [
    "A0011 = grouped.get_group(\"A001-1\")\n",
    "A0021 = grouped.get_group(\"A002-1\")\n",
    "A0022 = grouped.get_group(\"A002-2\")\n",
    "A0031 = grouped.get_group(\"A003-1\")\n",
    "A0032 = grouped.get_group(\"A003-2\")\n",
    "A0041 = grouped.get_group(\"A004-1\")\n",
    "A0042 = grouped.get_group(\"A004-2\")\n",
    "A0051 = grouped.get_group(\"A005-1\")\n",
    "A0061 = grouped.get_group(\"A006-1\")\n",
    "A0062 = grouped.get_group(\"A006-2\")\n",
    "A0071 = grouped.get_group(\"A007-1\")\n",
    "A0081 = grouped.get_group(\"A008-1\")\n",
    "A0091 = grouped.get_group(\"A009-1\")\n",
    "A0101 = grouped.get_group(\"A010-1\")\n",
    "A0111 = grouped.get_group(\"A011-1\")\n",
    "A0121 = grouped.get_group(\"A012-1\")\n",
    "A013 = grouped.get_group(\"A013\")\n",
    "A014 = grouped.get_group(\"A014\")"
   ]
  },
  {
   "cell_type": "code",
   "execution_count": 12,
   "metadata": {},
   "outputs": [],
   "source": [
    "feature_cols = ['Pregnancies','Glucose', 'BloodPressure', 'SkinThickness', 'Insulin', 'BMI', 'DiabetesPedigreeFunction', 'Age']\n",
    "x = data_cleaned[feature_cols]\n",
    "y = data_cleaned['Outcome']\n",
    "\n",
    "x_train, x_test, y_train, y_test = train_test_split(x,y,test_size=0.25)"
   ]
  },
  {
   "cell_type": "markdown",
   "metadata": {},
   "source": [
    "# Logistic Regression \n",
    "\n",
    "\n",
    "Logistic Regression is a form of regression analysis; it is used when the dependent variable is dichotomous or binary. Like all regression analyses, the logistic regression is a predictive tool. It is used to describe data and explain the relationships between one dependent binary variable and one or more independent variables.\n",
    "\n",
    "In our case, we are utilizing the `binary logistic regression analysis` as our dependent variable [Outcome] is binary, either Yes (1) or No (0).\n"
   ]
  },
  {
   "cell_type": "code",
   "execution_count": 13,
   "metadata": {},
   "outputs": [],
   "source": [
    "import warnings\n",
    "warnings.simplefilter(action='ignore')\n",
    "\n",
    "logreg = LogisticRegression()\n",
    "\n",
    "logreg.fit(x_train,y_train)\n",
    "\n",
    "log_pred= logreg.predict(x_test)"
   ]
  },
  {
   "cell_type": "markdown",
   "metadata": {},
   "source": [
    "In order to evaluate the performance of the classification model, a confusion matrix can be used to show the correct and incorrect predictions."
   ]
  },
  {
   "cell_type": "code",
   "execution_count": 14,
   "metadata": {},
   "outputs": [
    {
     "data": {
      "text/plain": [
       "Text(0.5, 39.5, 'Predicted')"
      ]
     },
     "execution_count": 14,
     "metadata": {},
     "output_type": "execute_result"
    },
    {
     "data": {
      "image/png": "[encoded data removed]",
      "text/plain": [
       "<Figure size 720x504 with 2 Axes>"
      ]
     },
     "metadata": {},
     "output_type": "display_data"
    }
   ],
   "source": [
    "from sklearn.metrics import confusion_matrix\n",
    "cm = confusion_matrix(y_test, log_pred)\n",
    "plt.figure(figsize=(10,7))\n",
    "sb.heatmap(cm, annot=True, fmt = 'g')\n",
    "plt.title('Confusion Matrix for Logistic Reression', y=1.1)\n",
    "plt.ylabel('Actual')\n",
    "plt.xlabel('Predicted')"
   ]
  },
  {
   "cell_type": "markdown",
   "metadata": {},
   "source": [
    "# Description of Metrics\n",
    "\n",
    "Metrics are used to quantify the quality of a model's predictions.  \n",
    "\n",
    ">`Accuracy Score` = (True Posititve + True Negative) / Total\n",
    "\n",
    ">`Precision Score` = True Positive / Actual Results OR True Posititve / (True Positive + True Negative) \n",
    "\n",
    ">`Recall Score` = True Posititve / Predicted Results OR True Positive / (True Positive + False Negative) "
   ]
  },
  {
   "cell_type": "code",
   "execution_count": 15,
   "metadata": {},
   "outputs": [
    {
     "name": "stdout",
     "output_type": "stream",
     "text": [
      "Accuracy: 0.8195488721804511\n",
      "Precision: 0.725\n",
      "Recall: 0.6904761904761905\n"
     ]
    }
   ],
   "source": [
    "print(\"Accuracy:\",metrics.accuracy_score(y_test, log_pred))\n",
    "print(\"Precision:\",metrics.precision_score(y_test, log_pred))\n",
    "print(\"Recall:\",metrics.recall_score(y_test, log_pred))"
   ]
  },
  {
   "cell_type": "markdown",
   "metadata": {},
   "source": [
    "> `ROC Curve:` Receiver Operating Characteristic Curve\n",
    "\n",
    "The Receiver Operating Characteristics (ROC) summarizes the prediction performance of a classification model at all classification thresholds. In essence, the ROC curve plots the true positive rate (y-axis) against the false positive rate (x-axis). \n",
    "\n",
    "> `ROC AUC Score:` Compute Area Under the Receiver Operating Characteristic Curve (ROC AUC) from prediction scores.\n",
    "\n",
    "The Area Under the Curve (AUC) metric indicates the degree or measure of separability (ability to distinguish if the outcome is a 1 or 0). The closer the score is to 1, the better the ability of the model to predict the outcome. "
   ]
  },
  {
   "cell_type": "code",
   "execution_count": 16,
   "metadata": {},
   "outputs": [
    {
     "data": {
      "image/png": "[encoded data removed]",
      "text/plain": [
       "<Figure size 432x288 with 1 Axes>"
      ]
     },
     "metadata": {},
     "output_type": "display_data"
    }
   ],
   "source": [
    "log_prob = logreg.predict_proba(x_test)[::,1]\n",
    "fpr, tpr, _ = metrics.roc_curve(y_test,  log_prob)\n",
    "lgauc = metrics.roc_auc_score(y_test, log_prob)\n",
    "plt.plot(fpr,tpr,label=\"data 1, auc=\"+str(lgauc))\n",
    "plt.xlabel(\"False Positive Rate\")\n",
    "plt.ylabel(\"True Positive Rate\")\n",
    "plt.legend(loc=4)\n",
    "plt.show()"
   ]
  },
  {
   "cell_type": "markdown",
   "metadata": {},
   "source": [
    ">`log_prob = logreg.predict_proba(x_test)[::,1]`\n",
    "\n",
    "Probabilities for the positive outcome is kept."
   ]
  },
  {
   "cell_type": "markdown",
   "metadata": {},
   "source": [
    "# Random Forest Classification\n",
    "\n",
    "At this point, we are starting the Random Forest Classificaiton.\n",
    "\n",
    "The Random Forest Classification works by having a large number of individual decision trees that operate as an ensemble. Each individual tree in the random forest spits out a class prediction and the class with the most votes becomes the model’s prediction. \n",
    "\n",
    "In our case, the number of trees that we are utilizing is 100, hence `n_estimators = 100` "
   ]
  },
  {
   "cell_type": "code",
   "execution_count": 17,
   "metadata": {
    "scrolled": true
   },
   "outputs": [],
   "source": [
    "random_forest = RandomForestClassifier(n_estimators=100)\n",
    "random_forest.fit(x_train, y_train)\n",
    "\n",
    "rf_prob = random_forest.predict_proba(x_test)[::,1]\n",
    "rf_pred = random_forest.predict(x_test)\n",
    "rfauc = metrics.accuracy_score(y_test,rf_pred)"
   ]
  },
  {
   "cell_type": "markdown",
   "metadata": {},
   "source": [
    "# Feature Importances \n",
    "\n",
    "The measurements of importances of the features in the Random Forest Classification problem is based of the Gini Impurity or Information Gain. When we train a tree, we compute how much each feature contributes to decreasing the weighted impurity. We are using `feature_importances_`; this function aims at averaging the decrease in impurity over trees.\n",
    "\n",
    "\n",
    "From this, we are able to see that `Glucose` is the most important feature. "
   ]
  },
  {
   "cell_type": "code",
   "execution_count": 18,
   "metadata": {},
   "outputs": [
    {
     "data": {
      "text/html": [
       "<div>\n",
       "<style scoped>\n",
       "    .dataframe tbody tr th:only-of-type {\n",
       "        vertical-align: middle;\n",
       "    }\n",
       "\n",
       "    .dataframe tbody tr th {\n",
       "        vertical-align: top;\n",
       "    }\n",
       "\n",
       "    .dataframe thead th {\n",
       "        text-align: right;\n",
       "    }\n",
       "</style>\n",
       "<table border=\"1\" class=\"dataframe\">\n",
       "  <thead>\n",
       "    <tr style=\"text-align: right;\">\n",
       "      <th></th>\n",
       "      <th>importance</th>\n",
       "    </tr>\n",
       "    <tr>\n",
       "      <th>feature</th>\n",
       "      <th></th>\n",
       "    </tr>\n",
       "  </thead>\n",
       "  <tbody>\n",
       "    <tr>\n",
       "      <th>Glucose</th>\n",
       "      <td>0.250</td>\n",
       "    </tr>\n",
       "    <tr>\n",
       "      <th>Age</th>\n",
       "      <td>0.151</td>\n",
       "    </tr>\n",
       "    <tr>\n",
       "      <th>BMI</th>\n",
       "      <td>0.133</td>\n",
       "    </tr>\n",
       "    <tr>\n",
       "      <th>DiabetesPedigreeFunction</th>\n",
       "      <td>0.112</td>\n",
       "    </tr>\n",
       "    <tr>\n",
       "      <th>Insulin</th>\n",
       "      <td>0.105</td>\n",
       "    </tr>\n",
       "    <tr>\n",
       "      <th>SkinThickness</th>\n",
       "      <td>0.097</td>\n",
       "    </tr>\n",
       "    <tr>\n",
       "      <th>Pregnancies</th>\n",
       "      <td>0.076</td>\n",
       "    </tr>\n",
       "    <tr>\n",
       "      <th>BloodPressure</th>\n",
       "      <td>0.076</td>\n",
       "    </tr>\n",
       "  </tbody>\n",
       "</table>\n",
       "</div>"
      ],
      "text/plain": [
       "                          importance\n",
       "feature                             \n",
       "Glucose                        0.250\n",
       "Age                            0.151\n",
       "BMI                            0.133\n",
       "DiabetesPedigreeFunction       0.112\n",
       "Insulin                        0.105\n",
       "SkinThickness                  0.097\n",
       "Pregnancies                    0.076\n",
       "BloodPressure                  0.076"
      ]
     },
     "execution_count": 18,
     "metadata": {},
     "output_type": "execute_result"
    }
   ],
   "source": [
    "importances = pd.DataFrame({'feature':x_train.columns,'importance':np.round(random_forest.feature_importances_,3)})\n",
    "importances = importances.sort_values('importance',ascending=False).set_index('feature')\n",
    "importances.head(8)"
   ]
  },
  {
   "cell_type": "markdown",
   "metadata": {},
   "source": [
    "\n",
    "Instead of viewing the importance of the features in a Data Frame, visualizing the importances in a bar chart can be more useful. \n"
   ]
  },
  {
   "cell_type": "code",
   "execution_count": 19,
   "metadata": {},
   "outputs": [
    {
     "data": {
      "text/plain": [
       "<matplotlib.axes._subplots.AxesSubplot at 0x21098125cd0>"
      ]
     },
     "execution_count": 19,
     "metadata": {},
     "output_type": "execute_result"
    },
    {
     "data": {
      "image/png": "[encoded data removed]",
      "text/plain": [
       "<Figure size 432x288 with 1 Axes>"
      ]
     },
     "metadata": {},
     "output_type": "display_data"
    }
   ],
   "source": [
    "importances.plot.barh()"
   ]
  },
  {
   "cell_type": "markdown",
   "metadata": {},
   "source": [
    "Once again, we can use a confusion matrix to show the correct and incorrect predictions in order to evaluate the effectiveness of our model"
   ]
  },
  {
   "cell_type": "code",
   "execution_count": 20,
   "metadata": {},
   "outputs": [
    {
     "data": {
      "text/plain": [
       "Text(0.5, 39.5, 'Predicted')"
      ]
     },
     "execution_count": 20,
     "metadata": {},
     "output_type": "execute_result"
    },
    {
     "data": {
      "image/png": "[encoded data removed]",
      "text/plain": [
       "<Figure size 720x504 with 2 Axes>"
      ]
     },
     "metadata": {},
     "output_type": "display_data"
    }
   ],
   "source": [
    "cm_rf = confusion_matrix(y_test, rf_pred)\n",
    "plt.figure(figsize=(10,7))\n",
    "sb.heatmap(cm_rf, annot=True, fmt = 'g')\n",
    "plt.title('Confusion Matrix for Random Forest', y=1.1)\n",
    "plt.ylabel('Actual')\n",
    "plt.xlabel('Predicted')"
   ]
  },
  {
   "cell_type": "code",
   "execution_count": 21,
   "metadata": {},
   "outputs": [
    {
     "name": "stdout",
     "output_type": "stream",
     "text": [
      "Accuracy: 0.7744360902255639\n",
      "Precision: 0.6304347826086957\n",
      "Recall: 0.6904761904761905\n"
     ]
    }
   ],
   "source": [
    "print(\"Accuracy:\",metrics.accuracy_score(y_test, rf_pred))\n",
    "print(\"Precision:\",metrics.precision_score(y_test, rf_pred))\n",
    "print(\"Recall:\",metrics.recall_score(y_test, rf_pred))"
   ]
  },
  {
   "cell_type": "markdown",
   "metadata": {},
   "source": [
    "# Gaussian Naive Bayes \n",
    "\n",
    "Naive Bayes is a classification algorithm for binary (two-class) and multi-class classification problems. The technique is easiest to understand when described using binary or categorical input values.\n",
    "\n",
    "Gaussian Naive Bayes is an extension of the Naive Bayes Theorem. Other functions can be used to estimate the distribution of the data, but the Gaussian (or Normal distribution) is the easiest to work with because it aids to estimate the mean and standard deviation from the training data.\n",
    "\n",
    "At this point, we are starting the GaussianNB "
   ]
  },
  {
   "cell_type": "code",
   "execution_count": 22,
   "metadata": {},
   "outputs": [],
   "source": [
    "from sklearn.naive_bayes import GaussianNB\n",
    "\n",
    "nb = GaussianNB()\n",
    "nb.fit(x_train, y_train)\n",
    "nb_prob = nb.predict_proba(x_test)[::,1]"
   ]
  },
  {
   "cell_type": "code",
   "execution_count": 23,
   "metadata": {},
   "outputs": [
    {
     "name": "stdout",
     "output_type": "stream",
     "text": [
      "Accuracy: 0.7894736842105263\n",
      "Precision: 0.6590909090909091\n",
      "Recall: 0.6904761904761905\n"
     ]
    }
   ],
   "source": [
    "nbpred = nb.predict(x_test)\n",
    "\n",
    "print(\"Accuracy:\",metrics.accuracy_score(y_test, nbpred))\n",
    "print(\"Precision:\",metrics.precision_score(y_test, nbpred))\n",
    "print(\"Recall:\",metrics.recall_score(y_test, nbpred))"
   ]
  },
  {
   "cell_type": "code",
   "execution_count": 24,
   "metadata": {},
   "outputs": [
    {
     "data": {
      "image/png": "[encoded data removed]",
      "text/plain": [
       "<Figure size 432x288 with 1 Axes>"
      ]
     },
     "metadata": {},
     "output_type": "display_data"
    }
   ],
   "source": [
    "nbfpr, nbtpr, _ = metrics.roc_curve(y_test, nb_prob)\n",
    "nbauc = metrics.roc_auc_score(y_test, nb_prob)\n",
    "plt.plot(nbfpr,nbtpr,label=\"data 1, auc=\"+str(nbauc))\n",
    "plt.xlabel(\"False Positive Rate\")\n",
    "plt.ylabel(\"True Positive Rate\")\n",
    "plt.legend(loc=4)\n",
    "plt.show()"
   ]
  },
  {
   "cell_type": "markdown",
   "metadata": {},
   "source": [
    "Now, we will begin comparing the 3 classification models we have used so far: Random Forest, Logsitic Regression and Naive Bayes.\n",
    "\n",
    "We will be using the common metric of ROC AUC, which indicates the degree and quality of the model to predict whether the outcome will be 1 or 0. "
   ]
  },
  {
   "cell_type": "code",
   "execution_count": 25,
   "metadata": {},
   "outputs": [
    {
     "name": "stdout",
     "output_type": "stream",
     "text": [
      "Random Forest: AUROC = 0.7744\n",
      "Naive Bayes: AUROC = 0.8605\n",
      "Logistic Regression: AUROC = 0.8647\n"
     ]
    }
   ],
   "source": [
    "print('Random Forest: AUROC = %.4f' % (rfauc))\n",
    "print('Naive Bayes: AUROC = %.4f' % (nbauc))\n",
    "print('Logistic Regression: AUROC = %.4f' % (lgauc))"
   ]
  },
  {
   "cell_type": "code",
   "execution_count": 26,
   "metadata": {},
   "outputs": [],
   "source": [
    "rf_fpr, rf_tpr, _ = roc_curve(y_test, rf_prob)\n",
    "nb_fpr, nb_tpr, _ = roc_curve(y_test, nb_prob)\n",
    "lg_fpr, lg_tpr, _ = roc_curve(y_test, log_prob)"
   ]
  },
  {
   "cell_type": "code",
   "execution_count": 27,
   "metadata": {
    "scrolled": true
   },
   "outputs": [
    {
     "data": {
      "image/png": "[encoded data removed]",
      "text/plain": [
       "<Figure size 432x288 with 1 Axes>"
      ]
     },
     "metadata": {},
     "output_type": "display_data"
    }
   ],
   "source": [
    "plt.plot(rf_fpr, rf_tpr, marker='.', label='Random Forest (AUROC = %0.4f)' % rfauc)\n",
    "plt.plot(nb_fpr, nb_tpr, marker='.', label='Naive Bayes (AUROC = %0.4f)' % nbauc)\n",
    "plt.plot(lg_fpr, lg_tpr, marker='.', label='Logistic Regression (AUROC = %0.4f)' % lgauc)\n",
    "\n",
    "plt.title('ROC Plot')\n",
    "plt.xlabel('False Positive Rate')\n",
    "plt.ylabel('True Positive Rate')\n",
    "plt.legend()  \n",
    "plt.show()"
   ]
  },
  {
   "cell_type": "markdown",
   "metadata": {},
   "source": [
    "# Improving the Models\n",
    "\n",
    "Now, using the importance features from the Random Forest Classification, we will select the 4 most important variables and use them exclusively to improve our models.\n",
    "\n",
    "By using the factors with the most importance, it should help us improve the accuracy of the predictions of our models."
   ]
  },
  {
   "cell_type": "code",
   "execution_count": 28,
   "metadata": {},
   "outputs": [],
   "source": [
    "new_factors = data_cleaned[['Glucose', 'Insulin', 'BMI', 'Age']]"
   ]
  },
  {
   "cell_type": "code",
   "execution_count": 29,
   "metadata": {},
   "outputs": [],
   "source": [
    "newx = new_factors\n",
    "y = data_cleaned['Outcome']\n",
    "\n",
    "newx_train, newx_test, newy_train, newy_test = train_test_split(newx,y,test_size=0.25)"
   ]
  },
  {
   "cell_type": "markdown",
   "metadata": {},
   "source": [
    "# New Logistic Regression"
   ]
  },
  {
   "cell_type": "code",
   "execution_count": 30,
   "metadata": {},
   "outputs": [],
   "source": [
    "logreg2 = LogisticRegression()\n",
    "\n",
    "logreg2.fit(newx_train,newy_train)\n",
    "\n",
    "newlg_pred = logreg2.predict(newx_test)"
   ]
  },
  {
   "cell_type": "code",
   "execution_count": 31,
   "metadata": {},
   "outputs": [
    {
     "data": {
      "text/plain": [
       "Text(0.5, 12.5, 'Predicted')"
      ]
     },
     "execution_count": 31,
     "metadata": {},
     "output_type": "execute_result"
    },
    {
     "data": {
      "image/png": "[encoded data removed]",
      "text/plain": [
       "<Figure size 432x288 with 2 Axes>"
      ]
     },
     "metadata": {},
     "output_type": "display_data"
    }
   ],
   "source": [
    "cnf_matrix = metrics.confusion_matrix(newy_test, newlg_pred)\n",
    "class_names=[0,1] # name  of classes\n",
    "fig, ax = plt.subplots()\n",
    "tick_marks = np.arange(len(class_names))\n",
    "plt.xticks(tick_marks, class_names)\n",
    "plt.yticks(tick_marks, class_names)\n",
    "\n",
    "# create heatmap\n",
    "sb.heatmap(pd.DataFrame(cnf_matrix), annot=True ,fmt='g')\n",
    "plt.title('Confusion Matrix', y=1.1)\n",
    "plt.ylabel('Actual')\n",
    "plt.xlabel('Predicted')"
   ]
  },
  {
   "cell_type": "code",
   "execution_count": 32,
   "metadata": {},
   "outputs": [
    {
     "name": "stdout",
     "output_type": "stream",
     "text": [
      "Accuracy: 0.7894736842105263\n",
      "Precision: 0.8125\n",
      "Recall: 0.5416666666666666\n"
     ]
    }
   ],
   "source": [
    "print(\"Accuracy:\",metrics.accuracy_score(newy_test, newlg_pred))\n",
    "print(\"Precision:\",metrics.precision_score(newy_test, newlg_pred))\n",
    "print(\"Recall:\",metrics.recall_score(newy_test, newlg_pred))"
   ]
  },
  {
   "cell_type": "code",
   "execution_count": 33,
   "metadata": {},
   "outputs": [
    {
     "data": {
      "image/png": "[encoded data removed]",
      "text/plain": [
       "<Figure size 432x288 with 1 Axes>"
      ]
     },
     "metadata": {},
     "output_type": "display_data"
    }
   ],
   "source": [
    "newlg_pred = logreg2.predict_proba(newx_test)[::,1]\n",
    "lg2fpr, lg2tpr, _ = metrics.roc_curve(newy_test,  newlg_pred)\n",
    "lg2auc = metrics.roc_auc_score(newy_test, newlg_pred)\n",
    "plt.plot(lg2fpr,lg2tpr,label=\"data 1, auc=\"+str(lg2auc))\n",
    "plt.xlabel(\"False Positive Rate\")\n",
    "plt.ylabel(\"True Positive Rate\")\n",
    "plt.legend(loc=4)\n",
    "plt.show()"
   ]
  },
  {
   "cell_type": "markdown",
   "metadata": {},
   "source": [
    "# New Random Forest"
   ]
  },
  {
   "cell_type": "code",
   "execution_count": 34,
   "metadata": {},
   "outputs": [],
   "source": [
    "random_forest2 = RandomForestClassifier(n_estimators=100)\n",
    "random_forest2.fit(newx_train, newy_train)\n",
    "\n",
    "newrf_prob = random_forest2.predict_proba(newx_test)[::,1]\n",
    "newrf_pred = random_forest2.predict(newx_test)\n",
    "newrfauc = metrics.accuracy_score(newy_test,newrf_pred)"
   ]
  },
  {
   "cell_type": "code",
   "execution_count": 35,
   "metadata": {},
   "outputs": [
    {
     "data": {
      "text/plain": [
       "Text(0.5, 39.5, 'Predicted')"
      ]
     },
     "execution_count": 35,
     "metadata": {},
     "output_type": "execute_result"
    },
    {
     "data": {
      "image/png": "[encoded data removed]",
      "text/plain": [
       "<Figure size 720x504 with 2 Axes>"
      ]
     },
     "metadata": {},
     "output_type": "display_data"
    }
   ],
   "source": [
    "cm_rf2 = confusion_matrix(newy_test, newrf_pred)\n",
    "plt.figure(figsize=(10,7))\n",
    "sb.heatmap(cm_rf2, annot=True, fmt = 'g')\n",
    "plt.title('Confusion Matrix for Random Forest', y=1.1)\n",
    "plt.ylabel('Actual')\n",
    "plt.xlabel('Predicted')"
   ]
  },
  {
   "cell_type": "code",
   "execution_count": 36,
   "metadata": {},
   "outputs": [
    {
     "name": "stdout",
     "output_type": "stream",
     "text": [
      "Accuracy: 0.7819548872180451\n",
      "Precision: 0.7435897435897436\n",
      "Recall: 0.6041666666666666\n"
     ]
    }
   ],
   "source": [
    "print(\"Accuracy:\",metrics.accuracy_score(newy_test, newrf_pred))\n",
    "print(\"Precision:\",metrics.precision_score(newy_test, newrf_pred))\n",
    "print(\"Recall:\",metrics.recall_score(newy_test, newrf_pred))"
   ]
  },
  {
   "cell_type": "markdown",
   "metadata": {},
   "source": [
    "# New Gaussian Naive Bayes\n"
   ]
  },
  {
   "cell_type": "code",
   "execution_count": 37,
   "metadata": {},
   "outputs": [],
   "source": [
    "nb2 = GaussianNB()\n",
    "nb2.fit(newx_train, newy_train)\n",
    "newnb_prob = nb2.predict_proba(newx_test)[::,1]"
   ]
  },
  {
   "cell_type": "code",
   "execution_count": 38,
   "metadata": {},
   "outputs": [
    {
     "data": {
      "image/png": "[encoded data removed]",
      "text/plain": [
       "<Figure size 432x288 with 1 Axes>"
      ]
     },
     "metadata": {},
     "output_type": "display_data"
    }
   ],
   "source": [
    "nb2fpr, nb2tpr, _ = metrics.roc_curve(newy_test, newnb_prob)\n",
    "newnbauc = metrics.roc_auc_score(newy_test, newnb_prob)\n",
    "plt.plot(nb2fpr,nb2tpr,label=\"data 1, auc=\"+str(newnbauc))\n",
    "plt.xlabel(\"False Positive Rate\")\n",
    "plt.ylabel(\"True Positive Rate\")\n",
    "plt.legend(loc=4)\n",
    "plt.show()"
   ]
  },
  {
   "cell_type": "markdown",
   "metadata": {},
   "source": [
    "#  Comparisons with the previous set of Models\n",
    "\n",
    "Now that we have established new models using the most important features, we will now evaluate the quality and reliability of the models to predict the outcomes. "
   ]
  },
  {
   "cell_type": "code",
   "execution_count": 39,
   "metadata": {},
   "outputs": [
    {
     "name": "stdout",
     "output_type": "stream",
     "text": [
      "Random Forest: AUROC = 0.7820\n",
      "Naive Bayes: AUROC = 0.8662\n",
      "Logistic Regression: AUROC = 0.8708\n"
     ]
    }
   ],
   "source": [
    "print('Random Forest: AUROC = %.4f' % (newrfauc))\n",
    "print('Naive Bayes: AUROC = %.4f' % (newnbauc))\n",
    "print('Logistic Regression: AUROC = %.4f' % (lg2auc))"
   ]
  },
  {
   "cell_type": "markdown",
   "metadata": {},
   "source": [
    "We can compare the ROC AUC of the Old and New Models. \n",
    "\n",
    ">The `ROC AUC` is the degree or measure of separability (ability to distinguish if the outcome is a 1 or 0)."
   ]
  },
  {
   "cell_type": "code",
   "execution_count": 40,
   "metadata": {},
   "outputs": [
    {
     "data": {
      "text/html": [
       "<div>\n",
       "<style scoped>\n",
       "    .dataframe tbody tr th:only-of-type {\n",
       "        vertical-align: middle;\n",
       "    }\n",
       "\n",
       "    .dataframe tbody tr th {\n",
       "        vertical-align: top;\n",
       "    }\n",
       "\n",
       "    .dataframe thead th {\n",
       "        text-align: right;\n",
       "    }\n",
       "</style>\n",
       "<table border=\"1\" class=\"dataframe\">\n",
       "  <thead>\n",
       "    <tr style=\"text-align: right;\">\n",
       "      <th></th>\n",
       "      <th>Old ROC AUC</th>\n",
       "      <th>New ROC AUC</th>\n",
       "    </tr>\n",
       "  </thead>\n",
       "  <tbody>\n",
       "    <tr>\n",
       "      <th>Random Forest</th>\n",
       "      <td>0.774436</td>\n",
       "      <td>0.781955</td>\n",
       "    </tr>\n",
       "    <tr>\n",
       "      <th>Gaussian Naive Bayes</th>\n",
       "      <td>0.860544</td>\n",
       "      <td>0.866176</td>\n",
       "    </tr>\n",
       "    <tr>\n",
       "      <th>Logistic Regression</th>\n",
       "      <td>0.864731</td>\n",
       "      <td>0.870833</td>\n",
       "    </tr>\n",
       "  </tbody>\n",
       "</table>\n",
       "</div>"
      ],
      "text/plain": [
       "                      Old ROC AUC  New ROC AUC\n",
       "Random Forest            0.774436     0.781955\n",
       "Gaussian Naive Bayes     0.860544     0.866176\n",
       "Logistic Regression      0.864731     0.870833"
      ]
     },
     "execution_count": 40,
     "metadata": {},
     "output_type": "execute_result"
    }
   ],
   "source": [
    "compar = pd.DataFrame(np.array([[rfauc, newrfauc], [nbauc, newnbauc], [lgauc, lg2auc]]), \n",
    "                      columns=['Old ROC AUC', 'New ROC AUC'], \n",
    "                      index =['Random Forest', 'Gaussian Naive Bayes', 'Logistic Regression'])\n",
    "compar"
   ]
  },
  {
   "cell_type": "code",
   "execution_count": 41,
   "metadata": {},
   "outputs": [],
   "source": [
    "rf_fpr2, rf_tpr2, _ = roc_curve(newy_test, newrf_prob)\n",
    "nb_fpr2, nb_tpr2, _ = roc_curve(newy_test, newnb_prob)\n",
    "lg_fpr2, lg_tpr2, _ = roc_curve(newy_test, newlg_pred)"
   ]
  },
  {
   "cell_type": "code",
   "execution_count": 42,
   "metadata": {},
   "outputs": [
    {
     "data": {
      "image/png": "[encoded data removed]",
      "text/plain": [
       "<Figure size 432x288 with 1 Axes>"
      ]
     },
     "metadata": {},
     "output_type": "display_data"
    }
   ],
   "source": [
    "plt.plot(rf_fpr2, rf_tpr2, marker='.', label='New Random Forest (AUROC = %0.4f)' % newrfauc)\n",
    "plt.plot(nb_fpr2, nb_tpr2, marker='.', label='New Naive Bayes (AUROC = %0.4f)' % newnbauc)\n",
    "plt.plot(lg_fpr2, lg_tpr2, marker='.', label='New Logistic Regression (AUROC = %0.4f)' % lg2auc)\n",
    "\n",
    "plt.title('ROC Plot')\n",
    "plt.xlabel('False Positive Rate')\n",
    "plt.ylabel('True Positive Rate')\n",
    "plt.legend()  \n",
    "plt.show()"
   ]
  },
  {
   "cell_type": "code",
   "execution_count": 43,
   "metadata": {
    "scrolled": false
   },
   "outputs": [
    {
     "data": {
      "image/png": "[encoded data removed]",
      "text/plain": [
       "<Figure size 432x288 with 1 Axes>"
      ]
     },
     "metadata": {},
     "output_type": "display_data"
    }
   ],
   "source": [
    "plt.plot(rf_fpr, rf_tpr, marker='.', label='Random Forest (AUROC = %0.4f)' % rfauc)\n",
    "plt.plot(nb_fpr, nb_tpr, marker='.', label='Naive Bayes (AUROC = %0.4f)' % nbauc)\n",
    "plt.plot(lg_fpr, lg_tpr, marker='.', label='Logistic Regression (AUROC = %0.4f)' % lgauc)\n",
    "\n",
    "plt.title('ROC Plot')\n",
    "plt.xlabel('False Positive Rate')\n",
    "plt.ylabel('True Positive Rate')\n",
    "plt.legend()  \n",
    "plt.show()"
   ]
  },
  {
   "cell_type": "code",
   "execution_count": null,
   "metadata": {},
   "outputs": [],
   "source": []
  },
  {
   "cell_type": "code",
   "execution_count": null,
   "metadata": {},
   "outputs": [],
   "source": []
  },
  {
   "cell_type": "code",
   "execution_count": null,
   "metadata": {},
   "outputs": [],
   "source": []
  },
  {
   "cell_type": "code",
   "execution_count": null,
   "metadata": {},
   "outputs": [],
   "source": []
  },
  {
   "cell_type": "code",
   "execution_count": null,
   "metadata": {},
   "outputs": [],
   "source": []
  },
  {
   "cell_type": "code",
   "execution_count": null,
   "metadata": {},
   "outputs": [],
   "source": []
  },
  {
   "cell_type": "code",
   "execution_count": null,
   "metadata": {},
   "outputs": [],
   "source": []
  },
  {
   "cell_type": "code",
   "execution_count": null,
   "metadata": {},
   "outputs": [],
   "source": []
  },
  {
   "cell_type": "code",
   "execution_count": null,
   "metadata": {},
   "outputs": [],
   "source": []
  },
  {
   "cell_type": "code",
   "execution_count": null,
   "metadata": {},
   "outputs": [],
   "source": []
  },
  {
   "cell_type": "code",
   "execution_count": null,
   "metadata": {},
   "outputs": [],
   "source": []
  },
  {
   "cell_type": "code",
   "execution_count": null,
   "metadata": {},
   "outputs": [],
   "source": []
  },
  {
   "cell_type": "code",
   "execution_count": null,
   "metadata": {},
   "outputs": [],
   "source": []
  },
  {
   "cell_type": "code",
   "execution_count": null,
   "metadata": {},
   "outputs": [],
   "source": []
  },
  {
   "cell_type": "code",
   "execution_count": null,
   "metadata": {},
   "outputs": [],
   "source": []
  },
  {
   "cell_type": "code",
   "execution_count": null,
   "metadata": {},
   "outputs": [],
   "source": []
  }
 ],
 "metadata": {
  "kernelspec": {
   "display_name": "Python 3",
   "language": "python",
   "name": "python3"
  },
  "language_info": {
   "codemirror_mode": {
    "name": "ipython",
    "version": 3
   },
   "file_extension": ".py",
   "mimetype": "text/x-python",
   "name": "python",
   "nbconvert_exporter": "python",
   "pygments_lexer": "ipython3",
   "version": "3.8.3"
  }
 },
 "nbformat": 4,
 "nbformat_minor": 4
}
